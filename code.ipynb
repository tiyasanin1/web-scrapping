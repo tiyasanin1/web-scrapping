{
 "cells": [
  {
   "cell_type": "code",
   "execution_count": 2,
   "metadata": {},
   "outputs": [],
   "source": [
    "import pandas as pd"
   ]
  },
  {
   "cell_type": "code",
   "execution_count": 5,
   "metadata": {},
   "outputs": [],
   "source": [
    "df=pd.read_csv('data/data_scraping.csv')"
   ]
  },
  {
   "cell_type": "code",
   "execution_count": 6,
   "metadata": {},
   "outputs": [
    {
     "name": "stdout",
     "output_type": "stream",
     "text": [
      "<class 'pandas.core.frame.DataFrame'>\n",
      "RangeIndex: 50 entries, 0 to 49\n",
      "Data columns (total 20 columns):\n",
      " #   Column           Non-Null Count  Dtype  \n",
      "---  ------           --------------  -----  \n",
      " 0   property_links   50 non-null     object \n",
      " 1   title            50 non-null     object \n",
      " 2   address          38 non-null     object \n",
      " 3   tags             50 non-null     object \n",
      " 4   property_id      50 non-null     object \n",
      " 5   price            50 non-null     float64\n",
      " 6   bedroom          50 non-null     int64  \n",
      " 7   room             12 non-null     float64\n",
      " 8   bathroom         50 non-null     float64\n",
      " 9   garage           2 non-null      float64\n",
      " 10  property_type    50 non-null     object \n",
      " 11  property_status  46 non-null     object \n",
      " 12  guest_number     43 non-null     float64\n",
      " 13  address_detail   50 non-null     object \n",
      " 14  city             49 non-null     object \n",
      " 15  state            49 non-null     object \n",
      " 16  zip_code         40 non-null     float64\n",
      " 17  area             48 non-null     object \n",
      " 18  country          42 non-null     object \n",
      " 19  class            50 non-null     object \n",
      "dtypes: float64(6), int64(1), object(13)\n",
      "memory usage: 7.9+ KB\n"
     ]
    }
   ],
   "source": [
    "df.info()"
   ]
  },
  {
   "cell_type": "code",
   "execution_count": null,
   "metadata": {},
   "outputs": [],
   "source": []
  }
 ],
 "metadata": {
  "kernelspec": {
   "display_name": "base",
   "language": "python",
   "name": "python3"
  },
  "language_info": {
   "codemirror_mode": {
    "name": "ipython",
    "version": 3
   },
   "file_extension": ".py",
   "mimetype": "text/x-python",
   "name": "python",
   "nbconvert_exporter": "python",
   "pygments_lexer": "ipython3",
   "version": "3.11.7"
  }
 },
 "nbformat": 4,
 "nbformat_minor": 2
}
